{
 "cells": [
  {
   "cell_type": "markdown",
   "metadata": {},
   "source": [
    "# DS 3000 HW 5 \n",
    "\n",
    "Due: Sunday July 20th @ 11:59 PM EST\n",
    "\n",
    "### Submission Instructions\n",
    "Submit this `ipynb` file and the a `PDF` file included with the coding results to Gradescope (this can also be done via the assignment on Canvas).  To ensure that your submitted files represent your latest code, make sure to give a fresh `Kernel > Restart & Run All` just before uploading the files to gradescope. \n",
    "\n",
    "**Notice that this is a group assignment. Each group only need to submit one copy and when you submit the work, please include everyone in your group.**\n",
    "\n",
    "### Tips for success\n",
    "- Start early\n",
    "- Make use of Piazza\n",
    "- Make use of Office hour\n",
    "- Remember to use cells and headings to make the notebook easy to read (if a grader cannot find the answer to a problem, you will receive no points for it)\n",
    "- Under no circumstances may one student view or share their ungraded homework or quiz with another student [(see also)](http://www.northeastern.edu/osccr/academic-integrity), though you are welcome to **talk about** (not show each other) the problems."
   ]
  },
  {
   "cell_type": "markdown",
   "metadata": {},
   "source": [
    "## Project proposal\n",
    "\n",
    "For this course, we aim to complete a data analysis project about the the game [Palworld](https://en.wikipedia.org/wiki/Palworld). To help you start with the project, here are a couple of things you need to consider and work on to get a clean data for later analysis. \n",
    "\n",
    "To start with the project, please take some time to get familiar with the game. You don't need to play it but please at least know the basic terminologies, like what is a Pal. (And also, if you do play it, please do not spend too much time on it.)\n",
    "\n",
    "The two recommended database is [https://palworld.gg/](https://palworld.gg/) and [https://paldb.cc/en/](https://paldb.cc/en/). You can use either, or both, or some other database about the Palworld. "
   ]
  },
  {
   "cell_type": "markdown",
   "metadata": {},
   "source": [
    "### Part 1.1 (10 points)\n",
    "\n",
    "Please list 2-3 questions you may be interested to study with the Palworld database. It can be anything related in the game, like the Pals, items or constructions. Some potential question structures can be: \n",
    "- Are `A` and `B` related? How they are related?\n",
    "- Which features may affect `C`'s change?\n",
    "- If I need a higher `D`, which features may have a lower/higher value?\n",
    "- Based on `E` and `F`, which items/pals are similar?\n",
    "- I need to predict the value for `G`, which features I need to consider?"
   ]
  },
  {
   "cell_type": "markdown",
   "metadata": {},
   "source": [
    "Do tankier pals have weaker attacks?\n",
    "\n",
    "Based on rarity and price, what items are the most similar?\n",
    "\n",
    "Do more expensive pals have higher stats?"
   ]
  },
  {
   "cell_type": "markdown",
   "metadata": {},
   "source": [
    "### Part 1.2 (20 points)\n",
    "\n",
    "Based on the questions we proposed in the part 1.1, what features we may need to include in the analysis? Check the websites, which website has those information? **You need to pick at least 8 features for analysis.** We recommend a mix of numerical (numbers etc.) and categorical (level etc.) features. Is there any other features that you think it may be important but hard to extract or find on the website (can be something in or not in the game)?"
   ]
  },
  {
   "cell_type": "markdown",
   "metadata": {},
   "source": [
    "Rarity, Weight, Rank, Price, Defense, Shot Attacks, HP, Melee Attacks, Running Speed and sprinting speed"
   ]
  },
  {
   "cell_type": "markdown",
   "metadata": {},
   "source": [
    "### Part 1.3 (20 points)\n",
    "\n",
    "Suppose you do have all the features you mentioned in part 1.2. List 3-4 data visulizations you can make with those features. You do not need to make those visulizations here. Just describe the type of the visualizations (histogram, scatter plot etc. ), which features are involved, will there any hover data or color being added, and **discuss how these data visualizations may be related (or even answer) to your questions in part 1.1**. "
   ]
  },
  {
   "cell_type": "markdown",
   "metadata": {},
   "source": [
    "Merge defense and HP, making it X. Also merge shot attack and melee attack, making it Y, visualize their correlation and run linear regression to look for a correlation.\n",
    "\n",
    "Use KNN classification to find which items are most similar based on rarity and price, taking rarity as x and price as y. Find out which items are most similar. Create a color labeled scatterplot.\n",
    "\n",
    "We can do a scatterplot that take the price of pals and their stats as x and y"
   ]
  },
  {
   "cell_type": "markdown",
   "metadata": {},
   "source": [
    "### Part 1.4  (50 points)\n",
    "\n",
    "Now, go ahead and try to scrape the features you need. \n",
    "\n",
    "Please show all the codes you have for web scrapping. Your current output data frame should include at least 4 features. (You do not need to scrape all features at this moment, although it is recommend to start earlier. Also, you can choose to not to use the ones you have scraped in the later analysis. No need to worry if you need to change anything later). **Please design your code in pipeline and clearly document each function.** See the Python Style Guide in Week 1 for proper documentation. It is also recommended to save the data you have scrapped. "
   ]
  },
  {
   "cell_type": "code",
   "execution_count": 1,
   "metadata": {},
   "outputs": [],
   "source": [
    "# Get all pals from palworld.gg\n",
    "\n",
    "import warnings\n",
    "warnings.simplefilter(action='ignore', category=FutureWarning)\n",
    "\n",
    "import pandas as pd\n",
    "from bs4 import BeautifulSoup\n",
    "import requests"
   ]
  },
  {
   "cell_type": "code",
   "execution_count": 2,
   "metadata": {},
   "outputs": [],
   "source": [
    "def get_url_html(url):\n",
    "    \"\"\"\n",
    "    Returns HTML from a url\n",
    "\n",
    "    Args:\n",
    "        url (str): a url\n",
    "\n",
    "    Returns:\n",
    "        html (str): HTML response from url\n",
    "    \"\"\"\n",
    "    \n",
    "    html = requests.get(url)\n",
    "    return html.text"
   ]
  },
  {
   "cell_type": "code",
   "execution_count": 3,
   "metadata": {},
   "outputs": [],
   "source": [
    "def clean_pal_data(html):\n",
    "    \"\"\"\n",
    "    Scrapes pals from palworld.gg and creates a dataframe with names, HP, defense, melee attack, and shot attack statistics\n",
    "\n",
    "    Args:\n",
    "        html (str): html text object from palworld.gg\n",
    "\n",
    "    Returns:\n",
    "        clean_df (DataFrame): DataFrame with columns\n",
    "                                Name (str): name of the pal\n",
    "                                HP (int): health points of the pal\n",
    "                                Defense (int): defense statistics of the pal\n",
    "                                Melee Attack (int): melee attack statistics of the pal\n",
    "                                Shot Attack (int): shot attack statistics of the pal\n",
    "    \"\"\"\n",
    "    # create soup object with the html text object\n",
    "    soup = BeautifulSoup(html, 'html.parser')\n",
    "\n",
    "    # find all divs that have a class name of 'pal'\n",
    "    all_pals = soup.find_all('div', class_='pal')\n",
    "\n",
    "    # initialize feature lists\n",
    "    pal_names = []\n",
    "    pal_HP = []\n",
    "    pal_defense = []\n",
    "    pal_melee_attack = []\n",
    "    pal_shot_attack = []\n",
    "    pal_price = []\n",
    "\n",
    "    # iterate through each pal to get name and href\n",
    "    for pal in all_pals:\n",
    "        if pal.find('a'):\n",
    "            href = pal.find('a')['href']    \n",
    "            \n",
    "        # build pal url\n",
    "        pal_url = 'https://palworld.gg' + href\n",
    "        \n",
    "        # get html from the pal url\n",
    "        pal_html = get_url_html(pal_url)\n",
    "\n",
    "        # create soup object with the html text object from the pal url\n",
    "        pal_soup = BeautifulSoup(pal_html)\n",
    "\n",
    "        # find pal statistics by finding div with class name of 'stats'\n",
    "        stats_section = pal_soup.find('div', class_='stats')\n",
    "        all_stat_items = stats_section.find_all('div', class_='item')\n",
    "        \n",
    "        pal_names.append(href.split('/')[-1])\n",
    "    \n",
    "        # get all stats\n",
    "        stat_map = {\n",
    "            'HP': pal_HP,\n",
    "            'Defense': pal_defense,\n",
    "            'Melee Attack': pal_melee_attack,\n",
    "            'Shot Attack': pal_shot_attack,\n",
    "            'Price': pal_price\n",
    "        }\n",
    "\n",
    "        for stat in all_stat_items:\n",
    "            for key, stat_list in stat_map.items():\n",
    "                if key in stat.text:\n",
    "                    value = stat.find('div', class_='value').text\n",
    "                    stat_list.append(value)\n",
    "                    break  # stop after the first match\n",
    "\n",
    "\n",
    "    # create DataFrame\n",
    "    all_pal_data = pd.DataFrame({\n",
    "        'Name': pal_names,\n",
    "        'HP': pal_HP,\n",
    "        'Defense': pal_defense,\n",
    "        'Melee Attack': pal_melee_attack,\n",
    "        'Shot Attack': pal_shot_attack,\n",
    "        'Price': pal_price\n",
    "    })\n",
    "    return all_pal_data"
   ]
  },
  {
   "cell_type": "code",
   "execution_count": 16,
   "metadata": {},
   "outputs": [
    {
     "data": {
      "text/html": [
       "<div>\n",
       "<style scoped>\n",
       "    .dataframe tbody tr th:only-of-type {\n",
       "        vertical-align: middle;\n",
       "    }\n",
       "\n",
       "    .dataframe tbody tr th {\n",
       "        vertical-align: top;\n",
       "    }\n",
       "\n",
       "    .dataframe thead th {\n",
       "        text-align: right;\n",
       "    }\n",
       "</style>\n",
       "<table border=\"1\" class=\"dataframe\">\n",
       "  <thead>\n",
       "    <tr style=\"text-align: right;\">\n",
       "      <th></th>\n",
       "      <th>Name</th>\n",
       "      <th>HP</th>\n",
       "      <th>Defense</th>\n",
       "      <th>Melee Attack</th>\n",
       "      <th>Shot Attack</th>\n",
       "      <th>Price</th>\n",
       "    </tr>\n",
       "  </thead>\n",
       "  <tbody>\n",
       "    <tr>\n",
       "      <th>0</th>\n",
       "      <td>anubis</td>\n",
       "      <td>120</td>\n",
       "      <td>100</td>\n",
       "      <td>130</td>\n",
       "      <td>130</td>\n",
       "      <td>4960</td>\n",
       "    </tr>\n",
       "    <tr>\n",
       "      <th>1</th>\n",
       "      <td>arsox</td>\n",
       "      <td>85</td>\n",
       "      <td>95</td>\n",
       "      <td>100</td>\n",
       "      <td>95</td>\n",
       "      <td>3520</td>\n",
       "    </tr>\n",
       "    <tr>\n",
       "      <th>2</th>\n",
       "      <td>astegon</td>\n",
       "      <td>100</td>\n",
       "      <td>125</td>\n",
       "      <td>100</td>\n",
       "      <td>125</td>\n",
       "      <td>8200</td>\n",
       "    </tr>\n",
       "    <tr>\n",
       "      <th>3</th>\n",
       "      <td>azurmane</td>\n",
       "      <td>130</td>\n",
       "      <td>110</td>\n",
       "      <td>100</td>\n",
       "      <td>120</td>\n",
       "      <td>6680</td>\n",
       "    </tr>\n",
       "    <tr>\n",
       "      <th>4</th>\n",
       "      <td>azurobe</td>\n",
       "      <td>110</td>\n",
       "      <td>100</td>\n",
       "      <td>70</td>\n",
       "      <td>100</td>\n",
       "      <td>5600</td>\n",
       "    </tr>\n",
       "    <tr>\n",
       "      <th>...</th>\n",
       "      <td>...</td>\n",
       "      <td>...</td>\n",
       "      <td>...</td>\n",
       "      <td>...</td>\n",
       "      <td>...</td>\n",
       "      <td>...</td>\n",
       "    </tr>\n",
       "    <tr>\n",
       "      <th>221</th>\n",
       "      <td>wumpo-botan</td>\n",
       "      <td>140</td>\n",
       "      <td>110</td>\n",
       "      <td>100</td>\n",
       "      <td>80</td>\n",
       "      <td>5700</td>\n",
       "    </tr>\n",
       "    <tr>\n",
       "      <th>222</th>\n",
       "      <td>xenogard</td>\n",
       "      <td>110</td>\n",
       "      <td>130</td>\n",
       "      <td>100</td>\n",
       "      <td>120</td>\n",
       "      <td>8810</td>\n",
       "    </tr>\n",
       "    <tr>\n",
       "      <th>223</th>\n",
       "      <td>xenolord</td>\n",
       "      <td>130</td>\n",
       "      <td>120</td>\n",
       "      <td>100</td>\n",
       "      <td>120</td>\n",
       "      <td>6120</td>\n",
       "    </tr>\n",
       "    <tr>\n",
       "      <th>224</th>\n",
       "      <td>xenovader</td>\n",
       "      <td>90</td>\n",
       "      <td>85</td>\n",
       "      <td>100</td>\n",
       "      <td>125</td>\n",
       "      <td>6750</td>\n",
       "    </tr>\n",
       "    <tr>\n",
       "      <th>225</th>\n",
       "      <td>yakumo</td>\n",
       "      <td>85</td>\n",
       "      <td>85</td>\n",
       "      <td>80</td>\n",
       "      <td>85</td>\n",
       "      <td>3360</td>\n",
       "    </tr>\n",
       "  </tbody>\n",
       "</table>\n",
       "<p>226 rows × 6 columns</p>\n",
       "</div>"
      ],
      "text/plain": [
       "            Name   HP Defense Melee Attack Shot Attack Price\n",
       "0         anubis  120     100          130         130  4960\n",
       "1          arsox   85      95          100          95  3520\n",
       "2        astegon  100     125          100         125  8200\n",
       "3       azurmane  130     110          100         120  6680\n",
       "4        azurobe  110     100           70         100  5600\n",
       "..           ...  ...     ...          ...         ...   ...\n",
       "221  wumpo-botan  140     110          100          80  5700\n",
       "222     xenogard  110     130          100         120  8810\n",
       "223     xenolord  130     120          100         120  6120\n",
       "224    xenovader   90      85          100         125  6750\n",
       "225       yakumo   85      85           80          85  3360\n",
       "\n",
       "[226 rows x 6 columns]"
      ]
     },
     "execution_count": 16,
     "metadata": {},
     "output_type": "execute_result"
    }
   ],
   "source": [
    "html = get_url_html('https://palworld.gg/pals')\n",
    "\n",
    "df_palworld = clean_pal_data(html)\n",
    "df_palworld"
   ]
  },
  {
   "cell_type": "code",
   "execution_count": 17,
   "metadata": {},
   "outputs": [],
   "source": [
    "from sklearn.preprocessing import StandardScaler\n",
    "from sklearn.linear_model import LinearRegression\n",
    "import statsmodels.api as sm\n",
    "import numpy as np\n",
    "\n",
    "import matplotlib.pyplot as plt"
   ]
  },
  {
   "cell_type": "code",
   "execution_count": 30,
   "metadata": {},
   "outputs": [],
   "source": [
    "# Question 1: Do tankier pals have weaker attacks?\n",
    "\n",
    "X = pd.DataFrame(pd.to_numeric(df_palworld['HP'], errors='coerce') + pd.to_numeric(df_palworld['Defense'], errors='coerce')) / 2\n",
    "\n",
    "df_palworld['Melee Attack'] = pd.to_numeric(df_palworld['Melee Attack'], errors='coerce')\n",
    "df_palworld['Shot Attack'] = pd.to_numeric(df_palworld['Shot Attack'], errors='coerce')\n",
    "\n",
    "df_palworld['Average Attack'] = (df_palworld['Melee Attack'] + df_palworld['Shot Attack']) / 2\n",
    "\n",
    "y = df_palworld['Average Attack']\n",
    "\n",
    "model = LinearRegression()\n",
    "model.fit(X, y)\n",
    "\n",
    "y_pred = model.predict(X)\n"
   ]
  },
  {
   "cell_type": "code",
   "execution_count": 20,
   "metadata": {},
   "outputs": [],
   "source": [
    "# X_new = sm.add_constant(X)\n",
    "# model = sm.OLS(y, X_new).fit()\n",
    "# r2_adj = model.rsquared_adj"
   ]
  },
  {
   "cell_type": "code",
   "execution_count": 21,
   "metadata": {},
   "outputs": [
    {
     "data": {
      "text/plain": [
       "np.float64(0.3704081649420866)"
      ]
     },
     "execution_count": 21,
     "metadata": {},
     "output_type": "execute_result"
    }
   ],
   "source": [
    "r2_adj"
   ]
  },
  {
   "cell_type": "code",
   "execution_count": null,
   "metadata": {},
   "outputs": [
    {
     "name": "stdout",
     "output_type": "stream",
     "text": [
      "Slope: 0.5383590142084992\n",
      "Intercept: 45.80171175779159\n"
     ]
    },
    {
     "data": {
      "image/png": "[encoded data removed]",
      "text/plain": [
       "<Figure size 800x600 with 1 Axes>"
      ]
     },
     "metadata": {},
     "output_type": "display_data"
    }
   ],
   "source": [
    "slope = model.coef_[0]\n",
    "intercept = model.intercept_\n",
    "\n",
    "print(f\"Slope: {slope}\")\n",
    "print(f\"Intercept: {intercept}\")\n",
    "\n",
    "# Plot data and regression line\n",
    "plt.figure(figsize=(8, 6))\n",
    "plt.scatter(X, y, label='Actual Data', alpha=0.7)\n",
    "plt.plot(X, y_pred, color='red', label='Regression Line')\n",
    "plt.xlabel('Average of HP and Defense')\n",
    "plt.ylabel('Average Attack')\n",
    "plt.title('Do tankier pals have weaker attacks?')\n",
    "plt.legend()\n",
    "plt.show()"
   ]
  },
  {
   "cell_type": "code",
   "execution_count": null,
   "metadata": {},
   "outputs": [],
   "source": []
  }
 ],
 "metadata": {
  "kernelspec": {
   "display_name": "base",
   "language": "python",
   "name": "python3"
  },
  "language_info": {
   "codemirror_mode": {
    "name": "ipython",
    "version": 3
   },
   "file_extension": ".py",
   "mimetype": "text/x-python",
   "name": "python",
   "nbconvert_exporter": "python",
   "pygments_lexer": "ipython3",
   "version": "3.12.2"
  }
 },
 "nbformat": 4,
 "nbformat_minor": 4
}
